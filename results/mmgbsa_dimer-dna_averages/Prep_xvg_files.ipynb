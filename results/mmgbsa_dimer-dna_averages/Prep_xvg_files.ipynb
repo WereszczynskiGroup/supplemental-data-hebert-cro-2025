{
 "cells": [
  {
   "cell_type": "code",
   "execution_count": 7,
   "id": "6ec8e06e-6640-4ad4-b8d9-634d6a30bbd5",
   "metadata": {},
   "outputs": [
    {
     "name": "stdout",
     "output_type": "stream",
     "text": [
      "./WT/WTgbsa1.xvg edited\n",
      "./WT/WTgbsa2.xvg edited\n",
      "./WT/WTgbsa3.xvg edited\n",
      "./WT/WTgbsa4.xvg edited\n",
      "./WT/WTgbsa5.xvg edited\n"
     ]
    }
   ],
   "source": [
    "import re\n",
    "import sys\n",
    "import numpy as np\n",
    "\n",
    "\n",
    "a8_1 = './WT/WTgbsa1.xvg'\n",
    "a8_2 = './WT/WTgbsa2.xvg' \n",
    "a8_3 = './WT/WTgbsa3.xvg'\n",
    "a8_4 = './WT/WTgbsa4.xvg'\n",
    "a8_5 = './WT/WTgbsa5.xvg'\n",
    "\n",
    "def edit_xvg_file(filename):\n",
    "    with open(filename, 'r') as file:\n",
    "        lines = file.readlines()\n",
    "    \n",
    "    with open(filename, 'w') as file:\n",
    "        for line in lines:\n",
    "            # If the line contains non-numeric characters (excluding commas), prefix it with '#'\n",
    "            if re.search(r'[^0-9.,\\-\\s]', line):\n",
    "                file.write(f'#{line}')\n",
    "            else:\n",
    "                file.write(line)\n",
    "    print(filename+' edited')\n",
    "\n",
    "files = [a8_1,a8_2,a8_3,a8_4,a8_5]\n",
    "for i in files:\n",
    "    edit_xvg_file(i)"
   ]
  },
  {
   "cell_type": "code",
   "execution_count": 8,
   "id": "24dc87f2-3bc1-49a1-b835-b68051e0247c",
   "metadata": {},
   "outputs": [
    {
     "name": "stdout",
     "output_type": "stream",
     "text": [
      "./WTr/WTrgbsa1.xvg edited\n",
      "./WTr/WTrgbsa2.xvg edited\n",
      "./WTr/WTrgbsa3.xvg edited\n",
      "./WTr/WTrgbsa4.xvg edited\n",
      "./WTr/WTrgbsa5.xvg edited\n"
     ]
    }
   ],
   "source": [
    "import re\n",
    "import sys\n",
    "import numpy as np\n",
    "\n",
    "\n",
    "a8_1 = './WTr/WTrgbsa1.xvg'\n",
    "a8_2 = './WTr/WTrgbsa2.xvg' \n",
    "a8_3 = './WTr/WTrgbsa3.xvg'\n",
    "a8_4 = './WTr/WTrgbsa4.xvg'\n",
    "a8_5 = './WTr/WTrgbsa5.xvg'\n",
    "\n",
    "def edit_xvg_file(filename):\n",
    "    with open(filename, 'r') as file:\n",
    "        lines = file.readlines()\n",
    "    \n",
    "    with open(filename, 'w') as file:\n",
    "        for line in lines:\n",
    "            # If the line contains non-numeric characters (excluding commas), prefix it with '#'\n",
    "            if re.search(r'[^0-9.,\\-\\s]', line):\n",
    "                file.write(f'#{line}')\n",
    "            else:\n",
    "                file.write(line)\n",
    "    print(filename+' edited')\n",
    "\n",
    "files = [a8_1,a8_2,a8_3,a8_4,a8_5]\n",
    "for i in files:\n",
    "    edit_xvg_file(i)"
   ]
  },
  {
   "cell_type": "code",
   "execution_count": 9,
   "id": "903b07bd-19e7-4d10-ac63-a0039aca38b0",
   "metadata": {},
   "outputs": [
    {
     "name": "stdout",
     "output_type": "stream",
     "text": [
      "./A3/A3gbsa1.xvg edited\n",
      "./A3/A3gbsa2.xvg edited\n",
      "./A3/A3gbsa3.xvg edited\n",
      "./A3/A3gbsa4.xvg edited\n",
      "./A3/A3gbsa5.xvg edited\n"
     ]
    }
   ],
   "source": [
    "import re\n",
    "import sys\n",
    "import numpy as np\n",
    "\n",
    "\n",
    "a8_1 = './A3/A3gbsa1.xvg'\n",
    "a8_2 = './A3/A3gbsa2.xvg' \n",
    "a8_3 = './A3/A3gbsa3.xvg'\n",
    "a8_4 = './A3/A3gbsa4.xvg'\n",
    "a8_5 = './A3/A3gbsa5.xvg'\n",
    "\n",
    "def edit_xvg_file(filename):\n",
    "    with open(filename, 'r') as file:\n",
    "        lines = file.readlines()\n",
    "    \n",
    "    with open(filename, 'w') as file:\n",
    "        for line in lines:\n",
    "            # If the line contains non-numeric characters (excluding commas), prefix it with '#'\n",
    "            if re.search(r'[^0-9.,\\-\\s]', line):\n",
    "                file.write(f'#{line}')\n",
    "            else:\n",
    "                file.write(line)\n",
    "    print(filename+' edited')\n",
    "\n",
    "files = [a8_1,a8_2,a8_3,a8_4,a8_5]\n",
    "for i in files:\n",
    "    edit_xvg_file(i)"
   ]
  },
  {
   "cell_type": "code",
   "execution_count": 10,
   "id": "bf36470a-9335-4e15-923f-866dc469261b",
   "metadata": {},
   "outputs": [
    {
     "name": "stdout",
     "output_type": "stream",
     "text": [
      "./T3/T3gbsa1.xvg edited\n",
      "./T3/T3gbsa2.xvg edited\n",
      "./T3/T3gbsa3.xvg edited\n",
      "./T3/T3gbsa4.xvg edited\n",
      "./T3/T3gbsa5.xvg edited\n"
     ]
    }
   ],
   "source": [
    "import re\n",
    "import sys\n",
    "import numpy as np\n",
    "\n",
    "a8_1 = './T3/T3gbsa1.xvg'\n",
    "a8_2 = './T3/T3gbsa2.xvg' \n",
    "a8_3 = './T3/T3gbsa3.xvg'\n",
    "a8_4 = './T3/T3gbsa4.xvg'\n",
    "a8_5 = './T3/T3gbsa5.xvg'\n",
    "\n",
    "def edit_xvg_file(filename):\n",
    "    with open(filename, 'r') as file:\n",
    "        lines = file.readlines()\n",
    "    \n",
    "    with open(filename, 'w') as file:\n",
    "        for line in lines:\n",
    "            # If the line contains non-numeric characters (excluding commas), prefix it with '#'\n",
    "            if re.search(r'[^0-9.,\\-\\s]', line):\n",
    "                file.write(f'#{line}')\n",
    "            else:\n",
    "                file.write(line)\n",
    "    print(filename+' edited')\n",
    "\n",
    "files = [a8_1,a8_2,a8_3,a8_4,a8_5]\n",
    "for i in files:\n",
    "    edit_xvg_file(i)"
   ]
  },
  {
   "cell_type": "code",
   "execution_count": 11,
   "id": "a5cfd6d3-2537-4100-aac7-d0ca4fa9cb40",
   "metadata": {},
   "outputs": [
    {
     "name": "stdout",
     "output_type": "stream",
     "text": [
      "./A8/A8gbsa1.xvg edited\n",
      "./A8/A8gbsa2.xvg edited\n",
      "./A8/A8gbsa3.xvg edited\n",
      "./A8/A8gbsa4.xvg edited\n",
      "./A8/A8gbsa5.xvg edited\n"
     ]
    }
   ],
   "source": [
    "import re\n",
    "import sys\n",
    "import numpy as np\n",
    "\n",
    "\n",
    "a8_1 = './A8/A8gbsa1.xvg'\n",
    "a8_2 = './A8/A8gbsa2.xvg' \n",
    "a8_3 = './A8/A8gbsa3.xvg'\n",
    "a8_4 = './A8/A8gbsa4.xvg'\n",
    "a8_5 = './A8/A8gbsa5.xvg'\n",
    "\n",
    "def edit_xvg_file(filename):\n",
    "    with open(filename, 'r') as file:\n",
    "        lines = file.readlines()\n",
    "    \n",
    "    with open(filename, 'w') as file:\n",
    "        for line in lines:\n",
    "            # If the line contains non-numeric characters (excluding commas), prefix it with '#'\n",
    "            if re.search(r'[^0-9.,\\-\\s]', line):\n",
    "                file.write(f'#{line}')\n",
    "            else:\n",
    "                file.write(line)\n",
    "    print(filename+' edited')\n",
    "\n",
    "files = [a8_1,a8_2,a8_3,a8_4,a8_5]\n",
    "for i in files:\n",
    "    edit_xvg_file(i)"
   ]
  },
  {
   "cell_type": "code",
   "execution_count": 12,
   "id": "50bb5a31-67c5-4bd1-8cb7-cba11e304a3f",
   "metadata": {},
   "outputs": [
    {
     "name": "stdout",
     "output_type": "stream",
     "text": [
      "./T8/T8gbsa1.xvg edited\n",
      "./T8/T8gbsa2.xvg edited\n",
      "./T8/T8gbsa3.xvg edited\n",
      "./T8/T8gbsa4.xvg edited\n",
      "./T8/T8gbsa5.xvg edited\n"
     ]
    }
   ],
   "source": [
    "import re\n",
    "import sys\n",
    "import numpy as np\n",
    "\n",
    "\n",
    "a8_1 = './T8/T8gbsa1.xvg'\n",
    "a8_2 = './T8/T8gbsa2.xvg' \n",
    "a8_3 = './T8/T8gbsa3.xvg'\n",
    "a8_4 = './T8/T8gbsa4.xvg'\n",
    "a8_5 = './T8/T8gbsa5.xvg'\n",
    "\n",
    "def edit_xvg_file(filename):\n",
    "    with open(filename, 'r') as file:\n",
    "        lines = file.readlines()\n",
    "    \n",
    "    with open(filename, 'w') as file:\n",
    "        for line in lines:\n",
    "            # If the line contains non-numeric characters (excluding commas), prefix it with '#'\n",
    "            if re.search(r'[^0-9.,\\-\\s]', line):\n",
    "                file.write(f'#{line}')\n",
    "            else:\n",
    "                file.write(line)\n",
    "    print(filename+' edited')\n",
    "\n",
    "files = [a8_1,a8_2,a8_3,a8_4,a8_5]\n",
    "for i in files:\n",
    "    edit_xvg_file(i)"
   ]
  },
  {
   "cell_type": "code",
   "execution_count": null,
   "id": "fcc6a81c-a34d-4884-a792-c6498629d204",
   "metadata": {},
   "outputs": [],
   "source": []
  }
 ],
 "metadata": {
  "kernelspec": {
   "display_name": "Python 3 (ipykernel)",
   "language": "python",
   "name": "python3"
  },
  "language_info": {
   "codemirror_mode": {
    "name": "ipython",
    "version": 3
   },
   "file_extension": ".py",
   "mimetype": "text/x-python",
   "name": "python",
   "nbconvert_exporter": "python",
   "pygments_lexer": "ipython3",
   "version": "3.10.8"
  }
 },
 "nbformat": 4,
 "nbformat_minor": 5
}
