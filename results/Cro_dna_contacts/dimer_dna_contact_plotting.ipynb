{
 "cells": [
  {
   "cell_type": "code",
   "execution_count": 1,
   "id": "509188f7",
   "metadata": {},
   "outputs": [],
   "source": [
    "import matplotlib.pyplot as plt\n",
    "import numpy as np\n",
    "\n",
    "at,a = np.loadtxt('WTdna_dnacont.dat', usecols=(1,2), unpack=True, comments='#')\n",
    "atr = np.loadtxt('WTrdna_dnacont.dat', usecols=(1), unpack=True, comments='#')\n",
    "\n",
    "bt,b = np.loadtxt('A3dna_dnacont.dat', usecols=(1,2), unpack=True, comments='#')\n",
    "btr = np.loadtxt('T3dna_dnacont.dat', usecols=(1), unpack=True, comments='#')\n",
    "\n",
    "ct,c = np.loadtxt('A8dna_dnacont.dat', usecols=(1,2), unpack=True, comments='#')\n",
    "ctr = np.loadtxt('T8dna_dnacont.dat', usecols=(1), unpack=True, comments='#')"
   ]
  },
  {
   "cell_type": "code",
   "execution_count": 2,
   "id": "a5a499f0",
   "metadata": {},
   "outputs": [
    {
     "data": {
      "image/png": "[encoded data removed]",
      "text/plain": [
       "<Figure size 500x400 with 1 Axes>"
      ]
     },
     "metadata": {},
     "output_type": "display_data"
    }
   ],
   "source": [
    "core_full = [(a-at).mean(), (b-bt).mean(), (c-ct).mean()]\n",
    "core_fsd = [(a-at).std()/2.2, (b-bt).std()/2.2, (c-ct).std()/2.2]\n",
    "core_trunc = [atr.mean(), btr.mean(), ctr.mean()]\n",
    "core_trsd = [atr.std()/2.2, btr.std()/2.2, ctr.std()/2.2]\n",
    "tail = [at.mean(), bt.mean(), ct.mean()]\n",
    "tail_sd = [at.std()/2.2, bt.std()/2.2, ct.std()/2.2]\n",
    "labels=['Wild Type', 'Act3', 'Act8']\n",
    "x = np.array([1,2,3])\n",
    "width = 0.3\n",
    "fix, ax = plt.subplots(1,1, figsize=(5,4))\n",
    "ax.bar(width=width, height=core_full, x=x-width*0.5, yerr=core_fsd, capsize=2, label='Full-length Core')\n",
    "ax.bar(width=width, height=tail, bottom=core_full, x=x-width*0.5, yerr=tail_sd, capsize=2, label='C-terminus')\n",
    "ax.bar(width=width, height=core_trunc, x=x+width*0.5, yerr=core_trsd, capsize=2, label='Truncated Core')\n",
    "ax.set_xticks([1,2,3], labels)\n",
    "ax.legend(bbox_to_anchor=(0.99, 0.5))\n",
    "ax.set_title('Average Cro-DNA Contacts')\n",
    "ax.set_ylabel('Contacts')\n",
    "plt.tight_layout()\n",
    "plt.savefig('Cro-dna_mean_contacts.pdf')"
   ]
  },
  {
   "cell_type": "code",
   "execution_count": 3,
   "id": "c0632e92",
   "metadata": {},
   "outputs": [
    {
     "data": {
      "text/plain": [
       "[359.80594339622644, 349.58822966507176, 337.5985416666667]"
      ]
     },
     "execution_count": 3,
     "metadata": {},
     "output_type": "execute_result"
    }
   ],
   "source": [
    "core_full"
   ]
  },
  {
   "cell_type": "code",
   "execution_count": 4,
   "id": "400ddd0d",
   "metadata": {},
   "outputs": [
    {
     "data": {
      "text/plain": [
       "[14.211936550885401, 19.815538466487585, 19.416656531677425]"
      ]
     },
     "execution_count": 4,
     "metadata": {},
     "output_type": "execute_result"
    }
   ],
   "source": [
    "core_fsd"
   ]
  },
  {
   "cell_type": "code",
   "execution_count": 46,
   "id": "cfcb09f1",
   "metadata": {},
   "outputs": [
    {
     "data": {
      "text/plain": [
       "[360.465, 320.7729166666667, 328.43225]"
      ]
     },
     "execution_count": 46,
     "metadata": {},
     "output_type": "execute_result"
    }
   ],
   "source": [
    "core_trunc"
   ]
  },
  {
   "cell_type": "code",
   "execution_count": 48,
   "id": "62f25b48",
   "metadata": {},
   "outputs": [
    {
     "data": {
      "text/plain": [
       "[14.37318038549365, 16.4541809358429, 14.62294575955239]"
      ]
     },
     "execution_count": 48,
     "metadata": {},
     "output_type": "execute_result"
    }
   ],
   "source": [
    "core_trsd"
   ]
  },
  {
   "cell_type": "code",
   "execution_count": 5,
   "id": "fdd537db",
   "metadata": {},
   "outputs": [
    {
     "data": {
      "text/plain": [
       "[58.25103773584906, 72.63976076555024, 67.19220833333334]"
      ]
     },
     "execution_count": 5,
     "metadata": {},
     "output_type": "execute_result"
    }
   ],
   "source": [
    "tail"
   ]
  },
  {
   "cell_type": "code",
   "execution_count": 51,
   "id": "e0f2d2b5",
   "metadata": {},
   "outputs": [
    {
     "data": {
      "text/plain": [
       "[18.4365702349753, 20.46339056709714, 19.478782592144306]"
      ]
     },
     "execution_count": 51,
     "metadata": {},
     "output_type": "execute_result"
    }
   ],
   "source": [
    "tail_sd"
   ]
  },
  {
   "cell_type": "code",
   "execution_count": null,
   "id": "5b773a6d",
   "metadata": {},
   "outputs": [],
   "source": []
  }
 ],
 "metadata": {
  "hide_input": false,
  "kernelspec": {
   "display_name": "Python 3 (ipykernel)",
   "language": "python",
   "name": "python3"
  },
  "language_info": {
   "codemirror_mode": {
    "name": "ipython",
    "version": 3
   },
   "file_extension": ".py",
   "mimetype": "text/x-python",
   "name": "python",
   "nbconvert_exporter": "python",
   "pygments_lexer": "ipython3",
   "version": "3.10.8"
  },
  "toc": {
   "base_numbering": 1,
   "nav_menu": {},
   "number_sections": true,
   "sideBar": true,
   "skip_h1_title": false,
   "title_cell": "Table of Contents",
   "title_sidebar": "Contents",
   "toc_cell": false,
   "toc_position": {},
   "toc_section_display": true,
   "toc_window_display": false
  }
 },
 "nbformat": 4,
 "nbformat_minor": 5
}
